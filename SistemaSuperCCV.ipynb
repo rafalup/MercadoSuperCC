{
  "nbformat": 4,
  "nbformat_minor": 0,
  "metadata": {
    "colab": {
      "name": "SistemaSuperCCV.ipynb",
      "provenance": [],
      "collapsed_sections": []
    },
    "kernelspec": {
      "name": "python3",
      "display_name": "Python 3"
    },
    "language_info": {
      "name": "python"
    }
  },
  "cells": [
    {
      "cell_type": "markdown",
      "metadata": {
        "id": "hNAFm92FVcYC"
      },
      "source": [
        "# **Trabalho Final Algoritmos**\n",
        "\n",
        "\n",
        "## **Sistema SuperCC**\n",
        "\n",
        "Você foi contratado(a) para criar um sistema que simule um caixa de um supermercado virtual utilizando a linguagem Python. \n",
        "\n",
        "Nas próximas seções são descritas as informações necessárias para a implementação do sistema.\n",
        "\n",
        "## **Tarefas**\n",
        "\n",
        "O objetivo de seu programa é possibilitar que o operador de caixa (usuário do programa) cadastre os produtos do supermercado e também registre as compras de um determinado cliente. Quando a compra finalizar, o sistema mostra o cupom fiscal: código e nome do produto, quantidade comprada e valor. No fim do cupom é apresentado o valor total da compra.\n",
        "\n",
        "\n",
        "### **1 - Cadastrar novos produtos**\n",
        "\n",
        "O caixa poderá criar um novo produto informando os seguintes dados cadastrais:\n",
        "\n",
        "* **Código do produto:** código numérico do produto;\n",
        "* **Nome do produto:** nome do produto; \n",
        "* **Preço do produto:** preço de venda unitário do produto;\n",
        "* **Quantidade em estoque**: quantidade do produto em estoque para a venda.\n",
        "\n",
        "Não podem existir dois produtos diferentes com o mesmo código.\n",
        "\n",
        "### **2 - Atualizar produtos**\n",
        "Permite que dados dos produtos sejam atualizados. Poderão ser atualizados apenas o **preço unitário** e a **quantidade em estoque**.\n",
        "\n",
        "### **3 - Registrar compra**\n",
        "\n",
        "O caixa registrará a compra do cliente, informando o código de cada produto (deverá ser apresentado o nome para o caixa se certificar que digitou o código correto) e quantidade comprada. Caso a quantidade exceda a quantidade em estoque do respectivo produto, o sistema deve informar o problema, apresentando a quantidade atual do estoque e não permitindo aquela entrada.\n",
        "Se a entrada for confirmada, lembrar de atualizar o estoque do produto.\n",
        "Deverá existir uma forma de encerrar o registro da compra(dica: pode ser o código -1 , por exemplo).\n",
        "A forma de pagamento não será controlada.\n",
        "Ao final, o sistema deverá apresentar um tipo de cupom fiscal. Ex.:\n",
        "\n",
        "|Código|Nome|Quantidade|Preço|\n",
        "|:---:|:---:|:---:|:---:|\n",
        "|12|Creme Colgate|1|4,50|\n",
        "|4|Sabonete Dove|5|18,70|\n",
        "|78|Fio Dental|1|21,34|\n",
        "|||Total|44,54|\n",
        "\n",
        "\n",
        "### **4 - Consultar produto**\n",
        "\n",
        "Permite buscar os dados do produto pelo seu código. Caso o produto não exista, exibir a mensagem **Produto não cadastrado**\n",
        "\n",
        "\n",
        "### **5 - Relatório de produtos**\n",
        "\n",
        "Exibe a lista de todos produtos cadastrados (código, nome, preço e quantidade em estoque).\n",
        "\n",
        "&nbsp;\n",
        "\n",
        "---\n",
        "\n",
        "## **Avaliação**\n",
        "\n",
        "\n",
        "1 - Execução correta e boa explicação: 80%\n",
        "* Serão feitos vários testes durante a apresentação.\n",
        "\n",
        "2 - Estilo de programação: 10%\n",
        "\n",
        "* Código  **comentado** (sem excesso), bem **estruturado**, nomes de variáveis significativas, etc.\n",
        "* Devem ser utilizadas **funções**\n",
        "\n",
        "3 - Funções adicionais para melhorar a funcionalidade básica da aplicação. Por exemplo: utilizar o conceito de estrutura (class): 10%\n",
        "\n",
        "Obs: quanto menos funções pré-pontas do python forem utilizadas, maior será a avaliação.\n",
        "\n",
        "\n",
        "\n",
        "\n",
        "##Trabalhos iguais irão resultar em nota igual à zero para todos os envolvidos\n",
        "\n",
        "---\n"
      ]
    },
    {
      "cell_type": "markdown",
      "metadata": {
        "id": "w0M6tr4wyPIK"
      },
      "source": [
        "##Exemplo de código"
      ]
    },
    {
      "cell_type": "code",
      "metadata": {
        "id": "GdrM0SP-VUpC"
      },
      "source": [
        "# Exemplo de organização dos produtos sem o uso de class (estrutura)\n",
        "product_sku = [12, 4, 48]\n",
        "product_name = ['Creme Colgate','Sabonete Dove','Fio Dental']\n",
        "product_price = [4.5,3.74,18.7]\n",
        "product_stock = [13,43,22]\n",
        "#a posição 0 de todas as listas se refere ao mesmo produto (Creme Colgate), a 1 a Sabonete Dove e assim por diante."
      ],
      "execution_count": null,
      "outputs": []
    },
    {
      "cell_type": "code",
      "metadata": {
        "id": "ZK5foe7EyZnC"
      },
      "source": [
        "#Exemplos de algumas funções\n",
        "\n",
        "#cadastro de novos produtos\n",
        "#verificar se o código (SKU) já existe\n",
        "def cadastro(product_sku, product_name, product_price, product_stock):\n",
        "  sku = input(\"Código Produto: \")\n",
        "\n",
        "#mostra um produto a partir do código\n",
        "def consulta_product(product_sku, product_name, product_price, product_stock):\n",
        "  print(\"Qual produto deseja consultar? \")\n",
        "  sku = input(\"Digite o código: \")\n",
        "#\n",
        "def listar(product_sku,product_name,product_price,product_stock):\n",
        "  #varre os vetores (listas) e imprime seus conteúdos"
      ],
      "execution_count": null,
      "outputs": []
    }
  ]
}